{
  "cells": [
    {
      "cell_type": "markdown",
      "metadata": {
        "id": "view-in-github",
        "colab_type": "text"
      },
      "source": [
        "<a href=\"https://colab.research.google.com/github/taravskayavm/brain_cell_types/blob/main/TaravskayaVM_Project.ipynb\" target=\"_parent\"><img src=\"https://colab.research.google.com/assets/colab-badge.svg\" alt=\"Open In Colab\"/></a>"
      ]
    },
    {
      "cell_type": "markdown",
      "id": "b3038fd7-c9d5-4faf-b17b-876da0b5f4ac",
      "metadata": {
        "id": "b3038fd7-c9d5-4faf-b17b-876da0b5f4ac"
      },
      "source": [
        "В данном проекте вам необходимо создать модель для классификации типов клеток мозга по данным scRNAseq. Данные можно скачать [здесь](https://download.brainimagelibrary.org/cf/1c/cf1c1a431ef8d021/processed_data/). Нас интересует файл с экспрессиями генов (`counts.h5ad`) и с аннотацией клеток (`cell_labels.csv`).\n",
        "\n",
        "* 3 класса\n",
        "* 280186 клеток х 254 гена (данные нормализованы и немного предобработаны)\n",
        "* ~ 1.0 Gb\n",
        "\n",
        "Для работы с таким форматом данных вам необходимо будет воспользоваться библиотекой `scanpy` (Single Cell ANalysis PYthon). Ее нужно будет установить даже если вы работаете в Google Colab:\n",
        "\n",
        "```bash\n",
        "!pip install scanpy\n",
        "```\n",
        "\n",
        "Чтобы считать скачанные данные можно воспользоваться следующим кодом:\n",
        "\n",
        "```Python\n",
        "import scanpy as sc\n",
        "import pandas as pd\n",
        "\n",
        "\n",
        "cell_labels = pd.read_csv(\"PATH_TO_CELL_LABELS.csv\") # Метки классов (колонка `class_label`)\n",
        "adata = sc.read_h5ad(\"PATH_TO_COUNTS.h5ad\") # Экспрессии + метаданные\n",
        "\n",
        "adata.obs # Индексы клеток\n",
        "adata.var # Гены\n",
        "adata.X # Матрица экспрессий\n",
        "```\n",
        "\n",
        "Дальше вам нужно написать классификатор. Подобрать гиперпараметры, признаки и провалидировать его.\n",
        "\n",
        "**В результате** у вас должен получиться ноутбук с описанием ваших шагов, с тренировкой и тестированием моделей, а также выводы."
      ]
    },
    {
      "cell_type": "code",
      "execution_count": null,
      "id": "a9b2235b",
      "metadata": {
        "id": "a9b2235b"
      },
      "outputs": [],
      "source": []
    },
    {
      "cell_type": "code",
      "execution_count": null,
      "id": "3c48adce-c313-45d1-805f-2a0f01ca71b2",
      "metadata": {
        "tags": [],
        "id": "3c48adce-c313-45d1-805f-2a0f01ca71b2"
      },
      "outputs": [],
      "source": [
        "#!pip install scanpy"
      ]
    },
    {
      "cell_type": "code",
      "execution_count": null,
      "id": "02a96c38-2c97-408d-9a69-5106204081bc",
      "metadata": {
        "tags": [],
        "id": "02a96c38-2c97-408d-9a69-5106204081bc"
      },
      "outputs": [],
      "source": [
        "# импортируем необходимые библиотеки\n",
        "\n",
        "import scanpy as sc\n",
        "import pandas as pd\n",
        "import numpy as np\n",
        "import joblib\n",
        "\n",
        "from sklearn.model_selection import train_test_split\n",
        "from sklearn.ensemble import RandomForestClassifier\n",
        "from sklearn.metrics import accuracy_score\n",
        "from sklearn.metrics import classification_report, confusion_matrix"
      ]
    },
    {
      "cell_type": "code",
      "execution_count": null,
      "id": "0efa0bf0",
      "metadata": {
        "id": "0efa0bf0"
      },
      "outputs": [],
      "source": []
    },
    {
      "cell_type": "code",
      "execution_count": null,
      "id": "70c90980",
      "metadata": {
        "id": "70c90980"
      },
      "outputs": [],
      "source": []
    },
    {
      "cell_type": "code",
      "execution_count": null,
      "id": "156e1007-175d-401e-8a75-cff0d6c35b33",
      "metadata": {
        "id": "156e1007-175d-401e-8a75-cff0d6c35b33"
      },
      "outputs": [],
      "source": [
        "# Считываем данные\n",
        "\n",
        "cell_labels = pd.read_csv(\"C:/Users/med/ML/cell_labels.csv\") # Метки классов (колонка `class_label`)\n",
        "adata = sc.read_h5ad(\"C:/Users/med/ML/counts.h5ad\") # Экспрессии + метаданные"
      ]
    },
    {
      "cell_type": "code",
      "execution_count": null,
      "id": "02532932-6bf1-477f-b9d8-18fe6aed5974",
      "metadata": {
        "scrolled": false,
        "id": "02532932-6bf1-477f-b9d8-18fe6aed5974",
        "outputId": "1d8295c7-dfcb-4e73-b372-e9538a43f19c"
      },
      "outputs": [
        {
          "data": {
            "text/plain": [
              "array([[0.0000000e+00, 0.0000000e+00, 0.0000000e+00, ..., 6.1383426e-01,\n",
              "        3.8716495e-02, 0.0000000e+00],\n",
              "       [0.0000000e+00, 0.0000000e+00, 0.0000000e+00, ..., 6.1811280e-01,\n",
              "        5.1406868e-02, 0.0000000e+00],\n",
              "       [0.0000000e+00, 0.0000000e+00, 0.0000000e+00, ..., 4.4882911e-01,\n",
              "        4.1903242e-02, 0.0000000e+00],\n",
              "       ...,\n",
              "       [0.0000000e+00, 0.0000000e+00, 0.0000000e+00, ..., 5.6548023e+00,\n",
              "        4.2430919e-02, 4.5176870e-03],\n",
              "       [0.0000000e+00, 0.0000000e+00, 0.0000000e+00, ..., 1.1598111e+01,\n",
              "        2.7926207e-01, 7.2065614e-02],\n",
              "       [0.0000000e+00, 4.7502649e-01, 0.0000000e+00, ..., 1.4223028e+01,\n",
              "        3.1781629e-01, 1.0914283e+00]], dtype=float32)"
            ]
          },
          "execution_count": 137,
          "metadata": {},
          "output_type": "execute_result"
        }
      ],
      "source": [
        "# Атрибуты объекта adata из библиотеки Scanpy, которая используется для анализа данных одной клетки (scRNAseq data)\n",
        "\n",
        "adata.obs # Индексы клеток\n",
        "adata.var # Гены\n",
        "adata.X # Матрица экспрессий, которая содержит числовые данные об экспрессии генов в каждой клетке"
      ]
    },
    {
      "cell_type": "code",
      "execution_count": null,
      "id": "22484e8d",
      "metadata": {
        "id": "22484e8d"
      },
      "outputs": [],
      "source": []
    },
    {
      "cell_type": "markdown",
      "id": "45694cd0",
      "metadata": {
        "id": "45694cd0"
      },
      "source": [
        "**Анализируем наши данные**"
      ]
    },
    {
      "cell_type": "code",
      "execution_count": null,
      "id": "506bd193-e80e-4b01-8030-1dab8727e465",
      "metadata": {
        "id": "506bd193-e80e-4b01-8030-1dab8727e465",
        "outputId": "ea5de066-dedd-442f-91c8-2d1807357eae"
      },
      "outputs": [
        {
          "data": {
            "text/html": [
              "<div>\n",
              "<style scoped>\n",
              "    .dataframe tbody tr th:only-of-type {\n",
              "        vertical-align: middle;\n",
              "    }\n",
              "\n",
              "    .dataframe tbody tr th {\n",
              "        vertical-align: top;\n",
              "    }\n",
              "\n",
              "    .dataframe thead th {\n",
              "        text-align: right;\n",
              "    }\n",
              "</style>\n",
              "<table border=\"1\" class=\"dataframe\">\n",
              "  <thead>\n",
              "    <tr style=\"text-align: right;\">\n",
              "      <th></th>\n",
              "      <th>Unnamed: 0</th>\n",
              "      <th>sample_id</th>\n",
              "      <th>slice_id</th>\n",
              "      <th>class_label</th>\n",
              "      <th>subclass</th>\n",
              "      <th>label</th>\n",
              "    </tr>\n",
              "  </thead>\n",
              "  <tbody>\n",
              "    <tr>\n",
              "      <th>0</th>\n",
              "      <td>10000143038275111136124942858811168393</td>\n",
              "      <td>mouse2_sample4</td>\n",
              "      <td>mouse2_slice31</td>\n",
              "      <td>Other</td>\n",
              "      <td>Astro</td>\n",
              "      <td>Astro_1</td>\n",
              "    </tr>\n",
              "    <tr>\n",
              "      <th>1</th>\n",
              "      <td>100001798412490480358118871918100400402</td>\n",
              "      <td>mouse2_sample5</td>\n",
              "      <td>mouse2_slice160</td>\n",
              "      <td>Other</td>\n",
              "      <td>Endo</td>\n",
              "      <td>Endo</td>\n",
              "    </tr>\n",
              "    <tr>\n",
              "      <th>2</th>\n",
              "      <td>100006878605830627922364612565348097824</td>\n",
              "      <td>mouse2_sample6</td>\n",
              "      <td>mouse2_slice109</td>\n",
              "      <td>Other</td>\n",
              "      <td>SMC</td>\n",
              "      <td>SMC</td>\n",
              "    </tr>\n",
              "    <tr>\n",
              "      <th>3</th>\n",
              "      <td>100007228202835962319771548915451072492</td>\n",
              "      <td>mouse1_sample2</td>\n",
              "      <td>mouse1_slice71</td>\n",
              "      <td>Other</td>\n",
              "      <td>Endo</td>\n",
              "      <td>Endo</td>\n",
              "    </tr>\n",
              "    <tr>\n",
              "      <th>4</th>\n",
              "      <td>100009332472089331948140672873134747603</td>\n",
              "      <td>mouse2_sample5</td>\n",
              "      <td>mouse2_slice219</td>\n",
              "      <td>Glutamatergic</td>\n",
              "      <td>L2/3 IT</td>\n",
              "      <td>L23_IT_3</td>\n",
              "    </tr>\n",
              "  </tbody>\n",
              "</table>\n",
              "</div>"
            ],
            "text/plain": [
              "                                Unnamed: 0       sample_id         slice_id  \\\n",
              "0   10000143038275111136124942858811168393  mouse2_sample4   mouse2_slice31   \n",
              "1  100001798412490480358118871918100400402  mouse2_sample5  mouse2_slice160   \n",
              "2  100006878605830627922364612565348097824  mouse2_sample6  mouse2_slice109   \n",
              "3  100007228202835962319771548915451072492  mouse1_sample2   mouse1_slice71   \n",
              "4  100009332472089331948140672873134747603  mouse2_sample5  mouse2_slice219   \n",
              "\n",
              "     class_label subclass     label  \n",
              "0          Other    Astro   Astro_1  \n",
              "1          Other     Endo      Endo  \n",
              "2          Other      SMC       SMC  \n",
              "3          Other     Endo      Endo  \n",
              "4  Glutamatergic  L2/3 IT  L23_IT_3  "
            ]
          },
          "execution_count": 112,
          "metadata": {},
          "output_type": "execute_result"
        }
      ],
      "source": [
        "cell_labels.head()"
      ]
    },
    {
      "cell_type": "code",
      "execution_count": null,
      "id": "611e1a2b-18ae-4441-8d41-f94b6f93d0d3",
      "metadata": {
        "id": "611e1a2b-18ae-4441-8d41-f94b6f93d0d3",
        "outputId": "54d209d1-af81-43ab-d8de-76455cb17844"
      },
      "outputs": [
        {
          "name": "stdout",
          "output_type": "stream",
          "text": [
            "<class 'pandas.core.frame.DataFrame'>\n",
            "RangeIndex: 280186 entries, 0 to 280185\n",
            "Data columns (total 6 columns):\n",
            " #   Column       Non-Null Count   Dtype \n",
            "---  ------       --------------   ----- \n",
            " 0   Unnamed: 0   280186 non-null  object\n",
            " 1   sample_id    280186 non-null  object\n",
            " 2   slice_id     280186 non-null  object\n",
            " 3   class_label  280186 non-null  object\n",
            " 4   subclass     280186 non-null  object\n",
            " 5   label        280186 non-null  object\n",
            "dtypes: object(6)\n",
            "memory usage: 12.8+ MB\n"
          ]
        }
      ],
      "source": [
        "cell_labels.info()"
      ]
    },
    {
      "cell_type": "code",
      "execution_count": null,
      "id": "4cbeaf1f-f274-44ca-85d7-3321121019a4",
      "metadata": {
        "id": "4cbeaf1f-f274-44ca-85d7-3321121019a4",
        "outputId": "5e29e8be-ce71-4815-fcba-2bb26a6608d8"
      },
      "outputs": [
        {
          "data": {
            "text/plain": [
              "array(['Other', 'Glutamatergic', 'GABAergic'], dtype=object)"
            ]
          },
          "execution_count": 114,
          "metadata": {},
          "output_type": "execute_result"
        }
      ],
      "source": [
        "cell_labels[\"class_label\"].unique()"
      ]
    },
    {
      "cell_type": "code",
      "execution_count": null,
      "id": "77acd71d",
      "metadata": {
        "id": "77acd71d",
        "outputId": "9d18e2ab-193a-48ae-a38a-4365e141ab14"
      },
      "outputs": [
        {
          "data": {
            "text/plain": [
              "class_label\n",
              "Glutamatergic    0.556170\n",
              "Other            0.378516\n",
              "GABAergic        0.065314\n",
              "Name: proportion, dtype: float64"
            ]
          },
          "execution_count": 140,
          "metadata": {},
          "output_type": "execute_result"
        }
      ],
      "source": [
        "cell_labels[\"class_label\"].value_counts(normalize=True)"
      ]
    },
    {
      "cell_type": "markdown",
      "id": "8d3ee528",
      "metadata": {
        "id": "8d3ee528"
      },
      "source": [
        "Пропорции классов немного отличаются друг от друга. Класс Glutamatergic преобладает с заметным перевесом (55,6%), в то время как класс GABAergic является наименее представленным (6,5%). Однако, учитываея ограниченность ресурсов для выборки данных модель будем обучать **без балансировки классов**."
      ]
    },
    {
      "cell_type": "code",
      "execution_count": null,
      "id": "a69b41d2",
      "metadata": {
        "id": "a69b41d2"
      },
      "outputs": [],
      "source": []
    },
    {
      "cell_type": "code",
      "execution_count": null,
      "id": "7697ab3c",
      "metadata": {
        "id": "7697ab3c"
      },
      "outputs": [],
      "source": []
    },
    {
      "cell_type": "markdown",
      "id": "a2ca7fc9",
      "metadata": {
        "id": "a2ca7fc9"
      },
      "source": [
        "**Подготовка данных**\n",
        "\n",
        "Предоставленные данные уже нормализованы и предобработаны, поэтому просто **разделяем данные на обучающий и тестовый наборы:**\n",
        "\n",
        "test_size=0.2: Этот параметр указывает на то, какую долю данных мы отводим для тестирования (в данном случае 20%). Это стандартное соотношение часто используется для разделения данных на обучающий и тестовый наборы. 80% данных используются для обучения модели, а 20% для тестирования, чтобы оценить ее производительность.\n",
        "\n",
        "random_state=42: Этот параметр используется для установления начального состояния генератора случайных чисел. При таком фиксированном значении random_state, разделение данных всегда будет одинаковым, что позволяет повторяемо проверять модель."
      ]
    },
    {
      "cell_type": "code",
      "execution_count": null,
      "id": "792784fb",
      "metadata": {
        "id": "792784fb",
        "outputId": "e2b8339a-ab08-413d-c163-500ff1f92bc7"
      },
      "outputs": [
        {
          "name": "stdout",
          "output_type": "stream",
          "text": [
            "Данные готовы.\n"
          ]
        }
      ],
      "source": [
        "X = adata.X                       # признаки\n",
        "y = cell_labels['class_label']    # целевая переменная\n",
        "X_train, X_test, y_train, y_test = train_test_split(X, y, test_size=0.2, random_state=42)\n",
        "\n",
        "print(\"Данные готовы.\")\n"
      ]
    },
    {
      "cell_type": "code",
      "execution_count": null,
      "id": "6e5ed173-ac0e-4420-a908-c05f3993595e",
      "metadata": {
        "id": "6e5ed173-ac0e-4420-a908-c05f3993595e"
      },
      "outputs": [],
      "source": []
    },
    {
      "cell_type": "code",
      "execution_count": null,
      "id": "d38e45c8",
      "metadata": {
        "id": "d38e45c8"
      },
      "outputs": [],
      "source": []
    },
    {
      "cell_type": "markdown",
      "id": "1d2b99a3",
      "metadata": {
        "id": "1d2b99a3"
      },
      "source": [
        "**Обучение модели Random Forest**\n",
        "\n",
        "При обучении Random Forest каждое дерево строится на случайной подвыборке образцов данных и случайном подмножестве признаков.\n",
        "Каждое дерево учится на своем поднаборе данных и потом применяется для предсказания классов.\n",
        "В итоге, предсказания каждого дерева объединяются (через голосование в случае классификации) для получения окончательного прогноза модели.\n",
        "\n",
        "Создаем объект класса **RandomForestClassifier** с двумя гиперпараметрами:\n",
        "\n",
        "**n_estimators=100**: этот гиперпараметр указывает на количество деревьев в лесу случайных деревьев (Random Forest). Обычно чем больше деревьев, тем лучше качество предсказаний модели. Значение 100 является распространенным выбором. Это дает хороший баланс между качеством модели и вычислительной эффективностью;\n",
        "\n",
        "**random_state=42**: гиперпараметр используется для установления начального состояния генератора случайных чисел в модели. Это необходимо для обеспечения воспроизводимости результатов обучения модели. При установке random_state на фиксированное значение (например, 42), предсказания модели будут одинаковыми при каждом запуске обучения на одних и тех же данных.\n"
      ]
    },
    {
      "cell_type": "code",
      "execution_count": null,
      "id": "c68b6456",
      "metadata": {
        "id": "c68b6456",
        "outputId": "07a1eb47-801d-47b3-97b4-0122b40d5b3f"
      },
      "outputs": [
        {
          "name": "stdout",
          "output_type": "stream",
          "text": [
            "Модель обучена.\n"
          ]
        }
      ],
      "source": [
        "rf_model = RandomForestClassifier(n_estimators=100, random_state=42)\n",
        "rf_model.fit(X_train, y_train)\n",
        "\n",
        "print(\"Модель обучена.\")"
      ]
    },
    {
      "cell_type": "code",
      "execution_count": null,
      "id": "fd5c24ae",
      "metadata": {
        "id": "fd5c24ae"
      },
      "outputs": [],
      "source": []
    },
    {
      "cell_type": "code",
      "execution_count": null,
      "id": "31b26642",
      "metadata": {
        "id": "31b26642"
      },
      "outputs": [],
      "source": []
    },
    {
      "cell_type": "markdown",
      "id": "89d46849",
      "metadata": {
        "id": "89d46849"
      },
      "source": [
        "**Оценка модели**"
      ]
    },
    {
      "cell_type": "code",
      "execution_count": null,
      "id": "d3b479b7",
      "metadata": {
        "id": "d3b479b7",
        "outputId": "8df8f499-8cde-4fb3-e9fe-35446a45dfa7"
      },
      "outputs": [
        {
          "name": "stdout",
          "output_type": "stream",
          "text": [
            "               precision    recall  f1-score   support\n",
            "\n",
            "    GABAergic       1.00      0.98      0.99      3636\n",
            "Glutamatergic       1.00      0.99      1.00     31266\n",
            "        Other       0.99      1.00      0.99     21136\n",
            "\n",
            "     accuracy                           0.99     56038\n",
            "    macro avg       1.00      0.99      0.99     56038\n",
            " weighted avg       0.99      0.99      0.99     56038\n",
            "\n",
            "[[ 3570    15    51]\n",
            " [    1 31102   163]\n",
            " [    4    56 21076]]\n"
          ]
        }
      ],
      "source": [
        "y_pred = rf_model.predict(X_test)\n",
        "print(classification_report(y_test, y_pred))\n",
        "print(confusion_matrix(y_test, y_pred))"
      ]
    },
    {
      "cell_type": "markdown",
      "id": "7c1050a7",
      "metadata": {
        "id": "7c1050a7"
      },
      "source": [
        "**Анализ результатов**\n",
        "- **precision (точность):** высокие значения близкие к 1 для всех классов указывают на то, что модель редко дает ложноположительные результаты;\n",
        "- **recall (полнота):**  высокие значения близкие к 1 означают, что модель хорошо находит истинно положительные результаты;\n",
        "- **f1-score (среднее гармоническое между точностью и полнотой):** показывает высокую сбалансированность модели по всем классам;\n",
        "- **матрица ошибок (confusion matrix)**: показывает количество верно и неверно классифицированных образцов для каждого класса (строки - фактические классы, столбцы - предсказанные классы). В нашем случае матрица ошибок показывает, что основной диагонали соответствуют правильные классификации, а внедиагональные элементы представляют ошибки классификации, которые в целом незначительны."
      ]
    },
    {
      "cell_type": "markdown",
      "id": "62baf056",
      "metadata": {
        "id": "62baf056"
      },
      "source": [
        "**Выводы**\n",
        "\n",
        "- модель Random Forest хорошо справилась с задачей классификации типов клеток мозга по данным scRNAseq. Ее производительность характеризуется высокими значениями точности (precision), полноты и F1-меры для всех классов;\n",
        "- модель обладает высокой обобщающей способностью и хорошо интерпретирует различия между типами клеток на основе экспресси генов."
      ]
    },
    {
      "cell_type": "markdown",
      "id": "7ac10a86",
      "metadata": {
        "id": "7ac10a86"
      },
      "source": []
    },
    {
      "cell_type": "markdown",
      "id": "bf7e2e53",
      "metadata": {
        "id": "bf7e2e53"
      },
      "source": [
        "**Сохраняем модель в текущем рабочем каталоге**"
      ]
    },
    {
      "cell_type": "code",
      "execution_count": null,
      "id": "db66661c",
      "metadata": {
        "id": "db66661c",
        "outputId": "416fdbe5-34e4-4430-d965-ec060f1a9656"
      },
      "outputs": [
        {
          "data": {
            "text/plain": [
              "['rf_model.pkl']"
            ]
          },
          "execution_count": 134,
          "metadata": {},
          "output_type": "execute_result"
        }
      ],
      "source": [
        "joblib.dump(rf_model, 'rf_model.pkl')"
      ]
    },
    {
      "cell_type": "code",
      "execution_count": null,
      "id": "bed66bd8",
      "metadata": {
        "id": "bed66bd8"
      },
      "outputs": [],
      "source": []
    }
  ],
  "metadata": {
    "kernelspec": {
      "display_name": "Python 3 (ipykernel)",
      "language": "python",
      "name": "python3"
    },
    "language_info": {
      "codemirror_mode": {
        "name": "ipython",
        "version": 3
      },
      "file_extension": ".py",
      "mimetype": "text/x-python",
      "name": "python",
      "nbconvert_exporter": "python",
      "pygments_lexer": "ipython3",
      "version": "3.11.5"
    },
    "colab": {
      "provenance": [],
      "include_colab_link": true
    }
  },
  "nbformat": 4,
  "nbformat_minor": 5
}